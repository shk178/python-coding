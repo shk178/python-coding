{
 "cells": [
  {
   "cell_type": "code",
   "execution_count": 1,
   "id": "74f87f0e-cd7c-439a-8771-9eac96288ead",
   "metadata": {},
   "outputs": [
    {
     "name": "stdout",
     "output_type": "stream",
     "text": [
      "a = 0.30000000000000004\n",
      "b = 0.29999999999999999\n",
      "a == b: False\n"
     ]
    }
   ],
   "source": [
    "# 부동소수형/이진법/오차 발생\n",
    "a = 0.1 + 0.1 + 0.1\n",
    "b = 0.3\n",
    "print(f\"a = {a:.17f}\")\n",
    "print(f\"b = {b:.17f}\")\n",
    "print(f\"a == b: {a == b}\")"
   ]
  },
  {
   "cell_type": "code",
   "execution_count": 2,
   "id": "d5dd6c5d-04e6-4b64-b778-9e31511d1bcd",
   "metadata": {},
   "outputs": [
    {
     "name": "stdout",
     "output_type": "stream",
     "text": [
      "epsilon = 2.220446049250313e-16\n",
      "abs(a - b) < epsilon: True\n"
     ]
    }
   ],
   "source": [
    "# 엡실론/지수 1023/가수 0...01\n",
    "# 절대오차/0주변 숫자에 유용 (상대오차는 큰 숫자에 유용)\n",
    "import sys\n",
    "print(f\"epsilon = {sys.float_info.epsilon}\")\n",
    "print(f\"abs(a - b) < epsilon: {abs(a - b) < sys.float_info.epsilon}\")"
   ]
  },
  {
   "cell_type": "code",
   "execution_count": 3,
   "id": "8f5b04a1-6071-42cb-b7fc-eb1c900a000a",
   "metadata": {},
   "outputs": [
    {
     "name": "stdout",
     "output_type": "stream",
     "text": [
      "math.isclose(a, b): True\n"
     ]
    }
   ],
   "source": [
    "# 절대오차, 상대오차 다 쓴다. math.isclose(a, b, rel_tol=값, abs_tol=값)\n",
    "import math\n",
    "print(f\"math.isclose(a, b): {math.isclose(a, b)}\")"
   ]
  },
  {
   "cell_type": "code",
   "execution_count": 4,
   "id": "4bd84f90-9446-46a3-b7a1-debf5b9498a9",
   "metadata": {},
   "outputs": [
    {
     "name": "stdout",
     "output_type": "stream",
     "text": [
      "c = 0.30000000000000000\n",
      "d = 0.30000000000000000\n",
      "c == d: True\n"
     ]
    }
   ],
   "source": [
    "# Decimal/10진수 정밀도 유지/오차 없음\n",
    "from decimal import Decimal\n",
    "c = Decimal('0.1') + Decimal('0.1') + Decimal('0.1')\n",
    "d = Decimal('0.3')\n",
    "print(f\"c = {c:.17f}\")\n",
    "print(f\"d = {d:.17f}\")\n",
    "print(f\"c == d: {c == d}\")"
   ]
  },
  {
   "cell_type": "code",
   "execution_count": null,
   "id": "f888a50a-9412-4d43-b63e-05172c8c3860",
   "metadata": {},
   "outputs": [],
   "source": []
  }
 ],
 "metadata": {
  "kernelspec": {
   "display_name": "Python 3 (ipykernel)",
   "language": "python",
   "name": "python3"
  },
  "language_info": {
   "codemirror_mode": {
    "name": "ipython",
    "version": 3
   },
   "file_extension": ".py",
   "mimetype": "text/x-python",
   "name": "python",
   "nbconvert_exporter": "python",
   "pygments_lexer": "ipython3",
   "version": "3.12.4"
  }
 },
 "nbformat": 4,
 "nbformat_minor": 5
}
